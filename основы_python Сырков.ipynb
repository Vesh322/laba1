{
  "cells": [
    {
      "cell_type": "markdown",
      "metadata": {
        "id": "M-DGa20PaHnu"
      },
      "source": [
        "#Задача 1\n",
        "Написать функцию на вход которой подается строка, состоящая из латинских букв.\n",
        "Функция должна вернуть количество гласных букв (a, e, i, o, u) в этой строке. Написать тесты для кода"
      ]
    },
    {
      "cell_type": "code",
      "execution_count": 30,
      "metadata": {
        "id": "XvX8X_JJ6PCb"
      },
      "outputs": [
        {
          "name": "stdout",
          "output_type": "stream",
          "text": [
            "True\n",
            "True\n",
            "True\n",
            "True\n",
            "True\n"
          ]
        }
      ],
      "source": [
        "def count_vowels(string):\n",
        "    vowels_letters = ['a', 'e', 'i', 'o', 'u', 'y']\n",
        "    count_letters = 0\n",
        "    if isinstance(string, str):\n",
        "        string = string.lower()\n",
        "        for char in string:\n",
        "            if char in vowels_letters:\n",
        "                count_letters += 1\n",
        "    return count_letters\n",
        "\n",
        "def test_vowels_count(object, required_count):\n",
        "    count_letters = count_vowels(object)\n",
        "    return count_letters == required_count\n",
        "\n",
        "def test_1():\n",
        "    return test_vowels_count('bbbbbffff', 0)\n",
        "\n",
        "def test_2():\n",
        "    return test_vowels_count('aaaaeeee', 8)\n",
        "\n",
        "def test_3():\n",
        "    return test_vowels_count('yydwfh', 2)\n",
        "\n",
        "def test_4():\n",
        "    return test_vowels_count(12345, 0)\n",
        "\n",
        "def test_5():\n",
        "    return test_vowels_count('PRIKOL', 2)\n",
        "\n",
        "print(test_1())\n",
        "print(test_2())\n",
        "print(test_3())\n",
        "print(test_4())\n",
        "print(test_5())"
      ]
    },
    {
      "cell_type": "markdown",
      "metadata": {
        "id": "t2ClV_Y0bbr6"
      },
      "source": [
        "# Задача 2\n",
        "Написать функцию на вход, которой подается строка. Функция должна вернуть true, если\n",
        "каждый символ в строке встречается только 1 раз, иначе должна вернуть false. Написать тесты для кода"
      ]
    },
    {
      "cell_type": "code",
      "execution_count": 14,
      "metadata": {
        "id": "FppbECao6VIz"
      },
      "outputs": [
        {
          "name": "stdout",
          "output_type": "stream",
          "text": [
            "True\n",
            "True\n",
            "True\n"
          ]
        }
      ],
      "source": [
        "def symbol_single(string): \n",
        "    if not isinstance(string, str): \n",
        "        return False \n",
        "    return len(set(string)) == len(string)\n",
        "\n",
        "def test_task_2(object, required_bool):\n",
        "    return required_bool == symbol_single(object)\n",
        "\n",
        "def test_1():\n",
        "    return test_task_2(13809, False)\n",
        "\n",
        "def test_2():\n",
        "    return test_task_2('zxcqwe', True)\n",
        "\n",
        "def test_3():\n",
        "    return test_task_2('aboaba', False)\n",
        "\n",
        "print(test_1())\n",
        "print(test_2())\n",
        "print(test_3())"
      ]
    },
    {
      "cell_type": "markdown",
      "metadata": {
        "id": "udRiIK1cdt6E"
      },
      "source": [
        "# Задача 3\n",
        "Написать функцию, которая принимает положительное число и возвращает количество\n",
        "бит равных 1 в этом числе. Написать тесты для кода"
      ]
    },
    {
      "cell_type": "code",
      "execution_count": 42,
      "metadata": {
        "id": "6tkfDJRz6dp_"
      },
      "outputs": [
        {
          "name": "stdout",
          "output_type": "stream",
          "text": [
            "True\n",
            "True\n",
            "True\n"
          ]
        }
      ],
      "source": [
        "def get_bits_count(number):\n",
        "    bits_count = 0\n",
        "    while number != 0:\n",
        "        bits_count += number % 2 == 1\n",
        "        number //= 2\n",
        "    return bits_count\n",
        "\n",
        "def test_task_3(object, required_count):\n",
        "    return required_count == get_bits_count(object)\n",
        "\n",
        "def test_555():\n",
        "    return test_task_3(555, 5)\n",
        "\n",
        "def test_0():\n",
        "    return test_task_3(0, 0)\n",
        "\n",
        "def test_1917():\n",
        "    return test_task_3(1917, 8)\n",
        "print(test_55())\n",
        "print(test_0())\n",
        "print(test_1823())"
      ]
    },
    {
      "cell_type": "markdown",
      "metadata": {
        "id": "26dDUz-Ae17N"
      },
      "source": [
        "# Задача 4\n",
        "Написать функцию, которая принимает положительное число. Функция должна вернуть то,\n",
        "сколько раз необходимо перемножать цифры числа или результат перемножения, чтобы\n",
        "получилось число состоящее из одной цифры.\n",
        "Например, для входного числа:\n",
        "· 39 функция должна вернуть 3, так как 3*9=27 => 2*7=14 => 1*4=4\n",
        "· 4 функция должна вернуть 0, так как число уже состоит из одной цифры\n",
        "· 999 функция должна вернуть 4, так как 9*9*9=729 => 7*2*9=126 => 1*2*6=12 =>\n",
        "1*2=2. Написать тесты для кода"
      ]
    },
    {
      "cell_type": "code",
      "execution_count": 21,
      "metadata": {
        "id": "BH1A_Mgi6i4G"
      },
      "outputs": [
        {
          "name": "stdout",
          "output_type": "stream",
          "text": [
            "True\n",
            "True\n",
            "True\n"
          ]
        }
      ],
      "source": [
        "def get_multiplication_count(number):\n",
        "    multiplication_count = 0\n",
        "    while number > 9:\n",
        "        number = multiplicate_digits(number)\n",
        "        multiplication_count += 1\n",
        "    return multiplication_count\n",
        "\n",
        "def multiplicate_digits(number):\n",
        "    result = 1\n",
        "    while number != 0:\n",
        "        result *= number % 10\n",
        "        number //= 10\n",
        "    return result\n",
        "\n",
        "def test_task_4(number, required_count):\n",
        "    return required_count == get_multiplication_count(number)\n",
        "\n",
        "def test_3_times():\n",
        "    return test_task_4(39, 3)\n",
        "\n",
        "def test_0_times():\n",
        "    return test_task_4(4, 0)\n",
        "\n",
        "def test_4_times():\n",
        "    return test_task_4(999, 4)\n",
        "\n",
        "print(test_3_times())\n",
        "print(test_0_times())\n",
        "print(test_4_times())"
      ]
    },
    {
      "cell_type": "markdown",
      "metadata": {
        "id": "0nS-kIa8g8vd"
      },
      "source": [
        "# Задача 5\n",
        "Написать функцию, которая принимает два целочисленных вектора одинаковой длины и\n",
        "возвращает среднеквадратическое отклонение двух векторов. Написать тесты для кода"
      ]
    },
    {
      "cell_type": "code",
      "execution_count": 28,
      "metadata": {
        "id": "8iphx4LM6xbx"
      },
      "outputs": [
        {
          "name": "stdout",
          "output_type": "stream",
          "text": [
            "True\n",
            "True\n"
          ]
        }
      ],
      "source": [
        "def mse(observed, predicted): \n",
        "    sum_of_squared_deviations = sum((o - p) ** 2 for o, p in zip(observed, predicted)) \n",
        "    return sum_of_squared_deviations / len(observed)\n",
        "\n",
        "def test_task_5(observed, predicted, required_mse):\n",
        "    return required_mse == mse(observed, predicted)\n",
        "\n",
        "def test_1():\n",
        "    return test_task_5([1, 2, 3, 4, 5], [6, 7, 8, 9, 10], 25.0)\n",
        "\n",
        "def test_2():\n",
        "    return test_task_5([2, 3, 4, 6, 9], [2, 3, 4, 6, 9], 0)\n",
        "\n",
        "print(test_1())\n",
        "print(test_2())"
      ]
    },
    {
      "cell_type": "markdown",
      "metadata": {
        "id": "vpIPKL439zkw"
      },
      "source": [
        "# Задача 6\n",
        "Написать функцию, принимающая целое положительное число. Функция должна вернуть\n",
        "строку вида “(n1**p1)(n2**p2)…(nk**pk)” представляющая разложение числа на простые\n",
        "множители (если pi == 1, то выводить только ni).\n",
        "Например, для числа 86240 функция должна вернуть “(2**5)(5)(7**2)(11)”. Написать тесты для кода"
      ]
    },
    {
      "cell_type": "code",
      "execution_count": 33,
      "metadata": {
        "id": "pFebmcZk94Jw"
      },
      "outputs": [
        {
          "name": "stdout",
          "output_type": "stream",
          "text": [
            "True\n"
          ]
        }
      ],
      "source": [
        "def get_decomposition_string(n):\n",
        "    factors = []\n",
        "    divisor = 2\n",
        "    while n > 1:\n",
        "        multiplicity = 0\n",
        "        while n % divisor == 0:\n",
        "            multiplicity += 1\n",
        "            n //= divisor\n",
        "        if multiplicity > 0:\n",
        "            if multiplicity == 1:\n",
        "                factors.append(f\"({divisor})\")\n",
        "            else:\n",
        "                factors.append(f\"({divisor}**{multiplicity})\")\n",
        "        divisor += 1 if divisor == 2 else 2\n",
        "    return ''.join(factors)\n",
        "\n",
        "def test_task_6(number, string):\n",
        "    return string == get_decomposition_string(number)\n",
        "\n",
        "def test_86240():\n",
        "    return test_task_6(86240, \"(2**5)(5)(7**2)(11)\")\n",
        "\n",
        "print(test_86240())\n"
      ]
    },
    {
      "cell_type": "markdown",
      "metadata": {
        "id": "ps2s0BudX7A2"
      },
      "source": [
        "# Задача 7\n",
        "Написать функцию, принимающая целое число n, задающее количество кубиков. Функция\n",
        "должна определить, можно ли из данного кол-ва кубиков построить пирамиду, то есть\n",
        "можно ли представить число n как 1^2+2^2+3^2+…+k^2. Если можно, то функция должна\n",
        "вернуть k, иначе строку “It is impossible”. Написать тесты для кода"
      ]
    },
    {
      "cell_type": "code",
      "execution_count": 45,
      "metadata": {
        "id": "3YPjEXxhX_YT"
      },
      "outputs": [
        {
          "name": "stdout",
          "output_type": "stream",
          "text": [
            "True\n",
            "True\n"
          ]
        }
      ],
      "source": [
        "def pyramid(n):\n",
        "    sum_of_squares = 0\n",
        "    k = 1\n",
        "    while sum_of_squares < n:\n",
        "        sum_of_squares += k**2\n",
        "        if sum_of_squares == n:\n",
        "            return k\n",
        "        k += 1\n",
        "    return \"It is impossible\"\n",
        "\n",
        "def test_task_7(number, answer):\n",
        "    return answer == pyramid(number)\n",
        "\n",
        "def test_impossible():\n",
        "    return test_task_7(11, \"It is impossible\")\n",
        "\n",
        "def test_possible():\n",
        "    return test_task_7(506, 11)\n",
        "\n",
        "print(test_impossible())\n",
        "print(test_possible())"
      ]
    },
    {
      "cell_type": "markdown",
      "metadata": {
        "id": "KeKgmIdAQMEJ"
      },
      "source": [
        "# Задача 8\n",
        "Функция принимает на вход положительное число и определяет является ли оно сбалансированным, т.е. сумма цифр до средних равна сумме цифр после. Средними в случае нечетного числа цифр считать одну цифру, в случае четного - две средних. Написать тесты для кода"
      ]
    },
    {
      "cell_type": "code",
      "execution_count": 54,
      "metadata": {
        "id": "gMAAqtqlQrZt"
      },
      "outputs": [
        {
          "name": "stdout",
          "output_type": "stream",
          "text": [
            "True\n",
            "True\n"
          ]
        }
      ],
      "source": [
        "def is_balanced(number):\n",
        "    digits_array = get_digits_array(number)\n",
        "    digits_count = len(digits_array)\n",
        "    \n",
        "    if digits_count < 2:\n",
        "        return False\n",
        "    \n",
        "    middle_position = digits_count // 2\n",
        "    left_sum = sum(digits_array[:middle_position])\n",
        "    right_sum = sum(digits_array[-middle_position:])\n",
        "    \n",
        "    if digits_count % 2 == 0:\n",
        "        middle_position -= 1\n",
        "    \n",
        "    return left_sum == right_sum\n",
        "\n",
        "def get_digits_array(number):\n",
        "    return [int(digit) for digit in str(number)]\n",
        "\n",
        "def test_task_8(number, required_bool):\n",
        "    return required_bool == is_balanced(number)\n",
        "\n",
        "def test_1():\n",
        "    return test_task_8(128321625, True)\n",
        "\n",
        "def test_2():\n",
        "    return test_task_8(129981, False)\n",
        "    \n",
        "print(test_1())\n",
        "print(test_2())"
      ]
    }
  ],
  "metadata": {
    "colab": {
      "provenance": []
    },
    "kernelspec": {
      "display_name": "Python 3",
      "name": "python3"
    },
    "language_info": {
      "codemirror_mode": {
        "name": "ipython",
        "version": 3
      },
      "file_extension": ".py",
      "mimetype": "text/x-python",
      "name": "python",
      "nbconvert_exporter": "python",
      "pygments_lexer": "ipython3",
      "version": "3.12.0"
    }
  },
  "nbformat": 4,
  "nbformat_minor": 0
}
